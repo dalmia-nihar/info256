{
 "cells": [
  {
   "cell_type": "markdown",
   "metadata": {},
   "source": [
    "**Quiz1**: \n",
    "Using the default NLTK tagger nltk.pos_tag() and the default tokenizer nltk.word_tokenize() on the sentence \"The wise have become joyous in their folly and the poor happy in their riches.\", which word is assigned the wrong part of speech? **(C)**\n",
    "\n",
    "a) joyous \n",
    "b) folly  \n",
    "c) poor should be a NNS, a category of people. Plural in response to the verb forms used although we can argue if \"the poor\" is really singular or plural out of context.\n",
    "d) happy "
   ]
  },
  {
   "cell_type": "code",
   "execution_count": 5,
   "metadata": {
    "collapsed": false
   },
   "outputs": [
    {
     "data": {
      "text/plain": [
       "[('The', 'DT'),\n",
       " ('wise', 'NN'),\n",
       " ('have', 'VBP'),\n",
       " ('become', 'VBN'),\n",
       " ('joyous', 'JJ'),\n",
       " ('in', 'IN'),\n",
       " ('their', 'PRP$'),\n",
       " ('folly', 'NN'),\n",
       " ('and', 'CC'),\n",
       " ('the', 'DT'),\n",
       " ('poor', 'JJ'),\n",
       " ('happy', 'JJ'),\n",
       " ('in', 'IN'),\n",
       " ('their', 'PRP$'),\n",
       " ('riches', 'NNS'),\n",
       " ('ADDADAD', 'NNP'),\n",
       " ('.', '.')]"
      ]
     },
     "execution_count": 5,
     "metadata": {},
     "output_type": "execute_result"
    }
   ],
   "source": [
    "import nltk\n",
    "s = \"The wise have become joyous in their folly and the poor happy in their riches.\"\n",
    "text = nltk.word_tokenize(s)\n",
    "nltk.pos_tag(text)"
   ]
  },
  {
   "cell_type": "markdown",
   "metadata": {},
   "source": [
    "**Quiz2**:\n",
    "The Brown Corpus is a collection of documents organized by genre (categories).  It is also conveniently already tagged with parts of speech.  Using the Universal tagset mapping from the brown tag set in the NLTK book, compute how frequently each Brown category displays each part of speech, and their relative position, as shown for the news category in Section 2.3 of Chapter 5.  **(c)**\n",
    "\n",
    "Which of the following is NOT true?\n",
    "a) Romance is the only category that is tagged with more verbs than nouns.\n",
    "b) Government and Religion have punctuation at the same relative frequency.\n",
    "c) Humor documents make more frequent use of adjectives, relative to its other parts of speech.\n",
    "d) Punctuation is more common than adjectives in all genres"
   ]
  },
  {
   "cell_type": "code",
   "execution_count": 2,
   "metadata": {
    "collapsed": false
   },
   "outputs": [
    {
     "name": "stdout",
     "output_type": "stream",
     "text": [
      "ADP frequency in humor is: 11.02558193132058\n",
      "PRON frequency in humor is: 6.254897441806868\n",
      "CONJ frequency in humor is: 3.2864715372205575\n",
      "NUM frequency in humor is: 0.7098409771836829\n",
      "X frequency in humor is: 0.2442959207190597\n",
      "NOUN frequency in humor is: 20.304217561650148\n",
      ". frequency in humor is: 15.7593915648767\n",
      "PRT frequency in humor is: 3.0560036874855956\n",
      "ADV frequency in humor is: 5.402166397787509\n",
      "VERB frequency in humor is: 16.344779903203502\n",
      "ADJ frequency in humor is: 6.277944226780364\n",
      "DET frequency in humor is: 11.33440884996543\n",
      "Category that is tagged with more verbs than nouns: romance\n",
      "Relative frequencey of punctuation in religion is: 12.20589355059773\n",
      "Relative frequencey of punctuation in government is: 10.836173823751729\n"
     ]
    }
   ],
   "source": [
    "# Universal tags: VERB, NOUN, PRON, ADJ, ADV, ADP, CONJ, DET, NUM, PRT, X, and '.'\n",
    "from nltk.corpus import brown\n",
    "def cal_freq(category):\n",
    "    \"\"\"Calculate tags freq in specified category\n",
    "    \"\"\"\n",
    "    return [tag for word, tag in brown.tagged_words(categories=category, tagset='universal')]\n",
    "\n",
    "stats = dict()\n",
    "for genre in brown.categories():\n",
    "    sum_count = 0\n",
    "    single_stats = dict()\n",
    "    for (tag, count) in nltk.FreqDist(cal_freq(genre)).most_common(12):\n",
    "        single_stats.update({tag: int(count)})\n",
    "    stats.update({genre: single_stats})\n",
    "\n",
    "for g, c in stats.items():\n",
    "    # Option a (correct)\n",
    "    if stats[g]['VERB'] > stats[g]['NOUN']:\n",
    "        print(\"Category that is tagged with more verbs than nouns: {0}\".format(g))\n",
    "    # Option b\n",
    "    sum_count = sum(c.values())\n",
    "    if g == \"government\" or g == \"religion\":\n",
    "        print(\"Relative frequencey of punctuation in {0} is: {1}\".format(g, stats[g]['.']*100/sum_count))\n",
    "    # Option c\n",
    "    if g == \"humor\":\n",
    "        for k, v in c.items():\n",
    "            print(\"{0} frequency in {1} is: {2}\".format(k, g, v*100/sum_count))\n",
    "    # Option d (correct)\n",
    "    if stats[g][\".\"] < stats[g][\"ADJ\"]:\n",
    "        print(\"{0}: Punctuation is not more common than adjectives\".format(g))"
   ]
  },
  {
   "cell_type": "markdown",
   "metadata": {},
   "source": [
    "**Quiz3**:\n",
    "The book shows an easy way to compute the number of tags that immediately follow a given tag, using the NTLK bigram function along with a FreqDist.  \n",
    "\n",
    "nltk.bigrams() automatically creates tuples consisting of pairs of consecutive items in a list.  So given\n",
    "\n",
    "bigrams = ['a', 'b', 'c', 'd']\n",
    "\n",
    "list(nltk.bigrams(bigrams))\n",
    "\n",
    "returns  \n",
    "\n",
    "[('a', 'b'), ('b', 'c'), ('c', 'd')]\n",
    "So if we start with\n",
    "\n",
    " [('The', 'DET'), ('lazy', 'JJ'), ('cat', 'NN')] \n",
    "we get\n",
    "\n",
    "[(('The, 'DET), ('lazy', 'JJ'))\n",
    "(('lazy', 'JJ'), ('cat', 'NN'))]\n",
    "as the two bigrams.\n",
    "\n",
    "Following the example from the book, compute which parts of speech are most likely to precede 'VERB' using the universal tagset in of the brown corpus and then answer the following question.\n",
    "\n",
    "Which of the following is/are true (mark all that apply)? **(abc)**\n",
    "\n",
    "a) The most frequent POS to precede VERB is pronoun and noun.\n",
    "b) If you reverse this and look at the most frequent tag to FOLLOW verb, it is either determiner, adposition, or another verb (for this definition of verb).\n",
    "c) Participles are more likely to precede verbs than follow them, according to this data."
   ]
  },
  {
   "cell_type": "code",
   "execution_count": 13,
   "metadata": {
    "collapsed": false
   },
   "outputs": [
    {
     "name": "stdout",
     "output_type": "stream",
     "text": [
      "Top 20 tags before 'VERB'is: [('PRON', 3477), ('NOUN', 2616), ('VERB', 1858), ('PRT', 1146), ('.', 1023), ('ADV', 743), ('CONJ', 669), ('DET', 477), ('ADP', 192), ('ADJ', 47), ('NUM', 22), ('X', 4)]\n",
      "Top 20 tags after 'VERB'is: [('DET', 2051), ('VERB', 1858), ('ADP', 1825), ('.', 1323), ('PRON', 1255), ('ADV', 1253), ('PRT', 1046), ('NOUN', 954), ('ADJ', 474), ('CONJ', 167), ('NUM', 67), ('X', 1)]\n",
      "-----------------------------\n",
      "Top 20 tags before 'VERB'is: [('NOUN', 6199), ('PRON', 5451), ('VERB', 4618), ('PRT', 2713), ('ADV', 2162), ('.', 1847), ('DET', 1263), ('CONJ', 969), ('ADP', 824), ('ADJ', 205), ('NUM', 90), ('X', 13)]\n",
      "Top 20 tags after 'VERB'is: [('ADP', 4815), ('VERB', 4618), ('DET', 4495), ('ADV', 2954), ('NOUN', 2308), ('.', 2084), ('ADJ', 1557), ('PRT', 1544), ('PRON', 1409), ('CONJ', 372), ('NUM', 188), ('X', 10)]\n",
      "-----------------------------\n",
      "Top 20 tags before 'VERB'is: [('NOUN', 2421), ('VERB', 2007), ('PRON', 1664), ('PRT', 1083), ('ADV', 773), ('.', 699), ('DET', 512), ('ADP', 334), ('CONJ', 297), ('ADJ', 78), ('NUM', 26), ('X', 2)]\n",
      "Top 20 tags after 'VERB'is: [('VERB', 2007), ('DET', 1713), ('ADP', 1516), ('ADV', 1036), ('NOUN', 991), ('.', 726), ('ADJ', 637), ('PRT', 598), ('PRON', 445), ('CONJ', 136), ('NUM', 88), ('X', 3)]\n",
      "-----------------------------\n",
      "Top 20 tags before 'VERB'is: [('PRON', 3354), ('NOUN', 2556), ('VERB', 2007), ('PRT', 1246), ('.', 976), ('ADV', 835), ('CONJ', 604), ('DET', 427), ('ADP', 184), ('ADJ', 79), ('NUM', 23), ('X', 8)]\n",
      "Top 20 tags after 'VERB'is: [('VERB', 2007), ('DET', 1979), ('ADP', 1889), ('.', 1319), ('ADV', 1294), ('PRON', 1074), ('PRT', 983), ('NOUN', 941), ('ADJ', 525), ('CONJ', 208), ('NUM', 79), ('X', 1)]\n",
      "-----------------------------\n",
      "Top 20 tags before 'VERB'is: [('NOUN', 2536), ('VERB', 2287), ('PRT', 1027), ('PRON', 956), ('ADV', 667), ('.', 657), ('DET', 627), ('ADP', 548), ('CONJ', 392), ('ADJ', 99), ('NUM', 75), ('X', 1)]\n",
      "Top 20 tags after 'VERB'is: [('VERB', 2287), ('ADP', 1829), ('DET', 1411), ('NOUN', 1276), ('ADV', 846), ('ADJ', 725), ('.', 573), ('PRT', 465), ('CONJ', 196), ('PRON', 183), ('NUM', 79), ('X', 2)]\n",
      "-----------------------------\n",
      "Top 20 tags before 'VERB'is: [('NOUN', 2997), ('VERB', 2396), ('PRON', 1700), ('.', 1382), ('PRT', 1188), ('ADV', 891), ('CONJ', 686), ('DET', 674), ('ADP', 597), ('ADJ', 158), ('NUM', 62), ('X', 2)]\n",
      "Top 20 tags after 'VERB'is: [('VERB', 2396), ('DET', 2287), ('ADP', 2047), ('NOUN', 1586), ('ADV', 1183), ('ADJ', 811), ('.', 798), ('PRT', 685), ('PRON', 465), ('CONJ', 249), ('NUM', 223), ('X', 3)]\n",
      "-----------------------------\n",
      "Top 20 tags before 'VERB'is: [('PRON', 949), ('NOUN', 657), ('VERB', 571), ('PRT', 372), ('.', 313), ('ADV', 281), ('CONJ', 159), ('DET', 132), ('ADP', 87), ('ADJ', 19), ('NUM', 5), ('X', 1)]\n",
      "Top 20 tags after 'VERB'is: [('DET', 584), ('VERB', 571), ('ADP', 570), ('.', 392), ('ADV', 332), ('PRON', 286), ('NOUN', 285), ('PRT', 282), ('ADJ', 160), ('CONJ', 57), ('NUM', 25), ('X', 2)]\n",
      "-----------------------------\n",
      "Top 20 tags before 'VERB'is: [('NOUN', 7865), ('VERB', 5649), ('PRON', 2849), ('PRT', 2544), ('ADV', 2208), ('DET', 1816), ('.', 1568), ('ADP', 1320), ('CONJ', 893), ('ADJ', 286), ('NUM', 137), ('X', 10)]\n",
      "Top 20 tags after 'VERB'is: [('VERB', 5649), ('ADP', 5306), ('DET', 3865), ('ADV', 3049), ('NOUN', 2986), ('ADJ', 1989), ('.', 1701), ('PRT', 1365), ('PRON', 596), ('CONJ', 392), ('NUM', 244), ('X', 3)]\n",
      "-----------------------------\n",
      "Top 20 tags before 'VERB'is: [('NOUN', 4280), ('VERB', 3079), ('PRON', 2863), ('PRT', 1787), ('ADV', 1363), ('.', 1238), ('DET', 822), ('CONJ', 686), ('ADP', 627), ('ADJ', 159), ('NUM', 60), ('X', 8)]\n",
      "Top 20 tags after 'VERB'is: [('VERB', 3079), ('ADP', 3046), ('DET', 2810), ('ADV', 1865), ('NOUN', 1659), ('.', 1264), ('PRT', 1113), ('ADJ', 999), ('PRON', 745), ('CONJ', 244), ('NUM', 148)]\n",
      "-----------------------------\n",
      "Top 20 tags before 'VERB'is: [('PRON', 2952), ('NOUN', 1956), ('VERB', 1723), ('PRT', 1251), ('.', 811), ('ADV', 628), ('CONJ', 504), ('DET', 331), ('ADP', 150), ('ADJ', 47), ('NUM', 30)]\n",
      "Top 20 tags after 'VERB'is: [('VERB', 1723), ('DET', 1643), ('ADP', 1513), ('PRON', 1069), ('.', 1046), ('ADV', 1034), ('PRT', 967), ('NOUN', 787), ('ADJ', 408), ('CONJ', 116), ('NUM', 77)]\n",
      "-----------------------------\n",
      "Top 20 tags before 'VERB'is: [('NOUN', 4192), ('VERB', 2915), ('PRON', 1930), ('PRT', 1475), ('.', 1198), ('ADV', 916), ('DET', 618), ('CONJ', 479), ('ADP', 467), ('ADJ', 107), ('NUM', 100), ('X', 2)]\n",
      "Top 20 tags after 'VERB'is: [('VERB', 2915), ('DET', 2591), ('ADP', 2505), ('NOUN', 1842), ('ADV', 1055), ('PRT', 966), ('.', 932), ('ADJ', 738), ('PRON', 461), ('NUM', 254), ('CONJ', 139), ('X', 1)]\n",
      "-----------------------------\n",
      "Top 20 tags before 'VERB'is: [('NOUN', 1314), ('PRON', 1225), ('VERB', 1082), ('PRT', 607), ('ADV', 561), ('.', 408), ('DET', 347), ('CONJ', 220), ('ADP', 218), ('ADJ', 36), ('NUM', 13), ('X', 5)]\n",
      "Top 20 tags after 'VERB'is: [('ADP', 1087), ('VERB', 1082), ('DET', 1047), ('ADV', 733), ('NOUN', 510), ('.', 457), ('ADJ', 354), ('PRON', 329), ('PRT', 314), ('CONJ', 81), ('NUM', 40), ('X', 2)]\n",
      "-----------------------------\n",
      "Top 20 tags before 'VERB'is: [('NOUN', 1448), ('PRON', 916), ('VERB', 904), ('.', 524), ('PRT', 514), ('ADV', 470), ('DET', 284), ('CONJ', 184), ('ADP', 150), ('ADJ', 56), ('NUM', 19), ('X', 9)]\n",
      "Top 20 tags after 'VERB'is: [('DET', 977), ('VERB', 904), ('ADP', 852), ('ADV', 660), ('NOUN', 584), ('.', 453), ('ADJ', 381), ('PRT', 356), ('PRON', 184), ('CONJ', 69), ('NUM', 56), ('X', 2)]\n",
      "-----------------------------\n",
      "Top 20 tags before 'VERB'is: [('PRON', 3941), ('NOUN', 2228), ('VERB', 2115), ('PRT', 1356), ('.', 982), ('ADV', 832), ('CONJ', 613), ('DET', 423), ('ADP', 219), ('ADJ', 60), ('NUM', 10), ('X', 5)]\n",
      "Top 20 tags after 'VERB'is: [('VERB', 2115), ('DET', 1924), ('ADP', 1798), ('.', 1391), ('PRON', 1343), ('ADV', 1294), ('PRT', 1109), ('NOUN', 959), ('ADJ', 614), ('CONJ', 169), ('NUM', 64), ('X', 4)]\n",
      "-----------------------------\n",
      "Top 20 tags before 'VERB'is: [('PRON', 612), ('NOUN', 554), ('VERB', 461), ('PRT', 261), ('.', 209), ('ADV', 189), ('DET', 109), ('CONJ', 100), ('ADP', 50), ('ADJ', 27), ('NUM', 5), ('X', 2)]\n",
      "Top 20 tags after 'VERB'is: [('VERB', 461), ('DET', 426), ('ADP', 346), ('.', 282), ('ADV', 275), ('PRON', 219), ('PRT', 197), ('NOUN', 183), ('ADJ', 143), ('CONJ', 33), ('NUM', 14)]\n",
      "-----------------------------\n"
     ]
    }
   ],
   "source": [
    "for genre in brown.categories():\n",
    "    counts_before = []\n",
    "    counts_after = []\n",
    "    pos = brown.tagged_words(categories=genre, tagset='universal')\n",
    "    for diagram in list(nltk.bigrams(pos)):\n",
    "        if diagram[1][1] == \"VERB\":\n",
    "            counts_before.append(diagram[0][1])\n",
    "        if diagram[0][1] == \"VERB\":\n",
    "            counts_after.append(diagram[1][1])\n",
    "    print(\"Top 20 tags before 'VERB'is: {0}\".format(nltk.FreqDist(counts_before).most_common(20)))\n",
    "    print(\"Top 20 tags after 'VERB'is: {0}\".format(nltk.FreqDist(counts_after).most_common(20)))\n",
    "    print(\"-----------------------------\")\n"
   ]
  },
  {
   "cell_type": "code",
   "execution_count": null,
   "metadata": {
    "collapsed": true
   },
   "outputs": [],
   "source": []
  }
 ],
 "metadata": {
  "kernelspec": {
   "display_name": "Python 3",
   "language": "python",
   "name": "python3"
  },
  "language_info": {
   "codemirror_mode": {
    "name": "ipython",
    "version": 3
   },
   "file_extension": ".py",
   "mimetype": "text/x-python",
   "name": "python",
   "nbconvert_exporter": "python",
   "pygments_lexer": "ipython3",
   "version": "3.5.2"
  }
 },
 "nbformat": 4,
 "nbformat_minor": 0
}
