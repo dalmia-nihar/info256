{
 "cells": [
  {
   "cell_type": "markdown",
   "metadata": {},
   "source": [
    "This notebook shows how to retrain the NLTK backoff tagger.\n",
    "- You'll see an example in which some recipe text has some errors in tagging, most likely because the training data did not have many examples of the target sentence structure.  \n",
    "- Next, you'll see the affects of adding a few sentences of training data with the missing sentence structure on the accuracy of the tagger.\n",
    "- Your assignment is to do something similar on your adopted text.\n"
   ]
  },
  {
   "cell_type": "code",
   "execution_count": 1,
   "metadata": {
    "collapsed": false
   },
   "outputs": [],
   "source": [
    "import nltk, re\n",
    "from nltk.corpus import brown\n",
    "from nltk import word_tokenize"
   ]
  },
  {
   "cell_type": "markdown",
   "metadata": {},
   "source": [
    "Define functions for training and evaluating a backoff tagger."
   ]
  },
  {
   "cell_type": "code",
   "execution_count": 2,
   "metadata": {
    "collapsed": false
   },
   "outputs": [],
   "source": [
    "def create_data_sets(sentences):\n",
    "    size = int(len(sentences) * 0.9)\n",
    "    train_sents = sentences[:size]\n",
    "    test_sents = sentences[size:]\n",
    "    return train_sents, test_sents\n",
    "\n",
    "def build_backoff_tagger(train_sents):\n",
    "    t0 = nltk.DefaultTagger('NN')\n",
    "    t1 = nltk.UnigramTagger(train_sents, backoff=t0)\n",
    "    t2 = nltk.BigramTagger(train_sents, backoff=t1)\n",
    "    return t2\n",
    "\n",
    "\n",
    "def train_tagger(already_tagged_sents):\n",
    "    train_sents, test_sents = create_data_sets(already_tagged_sents)\n",
    "    ngram_tagger = build_backoff_tagger(train_sents)\n",
    "    print (\"%0.3f pos accuracy on test set\" % ngram_tagger.evaluate(test_sents))\n",
    "    return ngram_tagger\n"
   ]
  },
  {
   "cell_type": "markdown",
   "metadata": {},
   "source": [
    "Make a specialized function for training a tagger on the brown corpus."
   ]
  },
  {
   "cell_type": "code",
   "execution_count": 3,
   "metadata": {
    "collapsed": false
   },
   "outputs": [],
   "source": [
    "def train_tagger_on_brown():\n",
    "    brown_tagged_sents = brown.tagged_sents(categories=['adventure', 'belles_lettres', 'editorial', 'fiction', 'government', 'hobbies',\n",
    "    'humor', 'learned', 'lore', 'mystery', 'religion', 'reviews', 'romance','science_fiction'])\n",
    "    return train_tagger(brown_tagged_sents)"
   ]
  },
  {
   "cell_type": "markdown",
   "metadata": {},
   "source": [
    "Functions for creating an NLTK corpus object, so we can operate on it using nltk.tokenize_text()"
   ]
  },
  {
   "cell_type": "code",
   "execution_count": 4,
   "metadata": {
    "collapsed": false
   },
   "outputs": [],
   "source": [
    "def tokenize_text(corpus):\n",
    "    sent_tokenizer = nltk.data.load('tokenizers/punkt/english.pickle')\n",
    "    raw_sents = sent_tokenizer.tokenize(corpus) # Split text into sentences    \n",
    "    return [nltk.word_tokenize(word) for word in raw_sents]\n",
    "\n",
    "def create_corpus(f):\n",
    "    with open(f, 'r') as text_file:\n",
    "        new_corpus = text_file.read()\n",
    "    return new_corpus\n"
   ]
  },
  {
   "cell_type": "markdown",
   "metadata": {},
   "source": [
    "Now train and evaluate an ngram backoff tagger, using the brown corpus as the training and testing set.  (This takes a few moments to complete.)"
   ]
  },
  {
   "cell_type": "code",
   "execution_count": 5,
   "metadata": {
    "collapsed": false
   },
   "outputs": [
    {
     "name": "stdout",
     "output_type": "stream",
     "text": [
      "0.911 pos accuracy on test set\n"
     ]
    }
   ],
   "source": [
    "brown_tagger = train_tagger_on_brown()"
   ]
  },
  {
   "cell_type": "markdown",
   "metadata": {
    "collapsed": true
   },
   "source": [
    "Next, read in a file of recipes and tokenize it."
   ]
  },
  {
   "cell_type": "code",
   "execution_count": 6,
   "metadata": {
    "collapsed": false
   },
   "outputs": [],
   "source": [
    "cookbook_file = './cookbooks.txt'\n",
    "cookbook_sents = tokenize_text(create_corpus(cookbook_file))"
   ]
  },
  {
   "cell_type": "markdown",
   "metadata": {},
   "source": [
    "In this collection,  imperative sentences (sentences that being with a verb) are always mistagged.  The POS tagger marks the initial verb as NN instead of VB.  (There may be other kinds of errors too, but we are only looking at imperative sentences here.) In order to see the sentences where the errors are occuring, the code below finds sentences that begin with imperatives, tags them with the tagger, and returns them in a list. "
   ]
  },
  {
   "cell_type": "code",
   "execution_count": 7,
   "metadata": {
    "collapsed": false
   },
   "outputs": [],
   "source": [
    "def get_cookbook_imperatives(sents, tagger):\n",
    "    cooking_commands = [\"Wash\", \"Stir\", \"Moisten\", \"Drain\", \"Cook\", \"Pour\", \"Chop\", \"Slice\", \"Season\", \"Mix\", \"Fry\", \"Bake\", \"Roast\", \"Wisk\"]        \n",
    "    return [tagger.tag(sent) for sent in sents if sent[0] in cooking_commands]       \n"
   ]
  },
  {
   "cell_type": "markdown",
   "metadata": {},
   "source": [
    "Let's look at those sentences."
   ]
  },
  {
   "cell_type": "code",
   "execution_count": 8,
   "metadata": {
    "collapsed": false
   },
   "outputs": [
    {
     "data": {
      "text/plain": [
       "[[('Wash', 'NN'),\n",
       "  ('a', 'AT'),\n",
       "  ('quarter', 'NN'),\n",
       "  ('of', 'IN'),\n",
       "  ('a', 'AT'),\n",
       "  ('pound', 'NN'),\n",
       "  ('of', 'IN'),\n",
       "  ('best', 'JJT'),\n",
       "  ('pearl', 'NN'),\n",
       "  ('sago', 'NN'),\n",
       "  ('thoroughly', 'RB'),\n",
       "  (',', ','),\n",
       "  ('then', 'RB'),\n",
       "  ('stew', 'NN'),\n",
       "  ('it', 'PPS'),\n",
       "  ('quite', 'QL'),\n",
       "  ('tender', 'JJ'),\n",
       "  ('and', 'CC'),\n",
       "  ('very', 'QL'),\n",
       "  ('View', 'NN'),\n",
       "  ('page', 'NN'),\n",
       "  ('[', '('),\n",
       "  ('32', 'CD'),\n",
       "  (']', ','),\n",
       "  ('thick', 'JJ'),\n",
       "  ('in', 'IN'),\n",
       "  ('water', 'NN'),\n",
       "  ('or', 'CC'),\n",
       "  ('thick', 'JJ'),\n",
       "  ('broth', 'NN'),\n",
       "  (';', '.'),\n",
       "  ('(', '('),\n",
       "  ('it', 'PPS'),\n",
       "  ('will', 'MD'),\n",
       "  ('require', 'VB'),\n",
       "  ('nearly', 'QL'),\n",
       "  ('or', 'CC'),\n",
       "  ('quite', 'QL'),\n",
       "  ('a', 'AT'),\n",
       "  ('quart', 'NN'),\n",
       "  ('of', 'IN'),\n",
       "  ('liquid', 'NN'),\n",
       "  (',', ','),\n",
       "  ('which', 'WDT'),\n",
       "  ('should', 'MD'),\n",
       "  ('be', 'BE'),\n",
       "  ('poured', 'VBN'),\n",
       "  ('to', 'TO'),\n",
       "  ('it', 'PPO'),\n",
       "  ('cold', 'JJ'),\n",
       "  ('and', 'CC'),\n",
       "  ('heated', 'VBN'),\n",
       "  ('slowly', 'RB'),\n",
       "  (';', '.'),\n",
       "  (')', ')'),\n",
       "  ('then', 'RB'),\n",
       "  ('mix', 'VB'),\n",
       "  ('gradually', 'RB'),\n",
       "  ('with', 'IN'),\n",
       "  ('it', 'PPO'),\n",
       "  ('a', 'AT'),\n",
       "  ('pint', 'NN'),\n",
       "  ('of', 'IN'),\n",
       "  ('good', 'JJ'),\n",
       "  ('boiling', 'VBG'),\n",
       "  ('cream', 'NN'),\n",
       "  ('or', 'CC'),\n",
       "  ('milk', 'NN'),\n",
       "  (',', ','),\n",
       "  ('and', 'CC'),\n",
       "  ('the', 'AT'),\n",
       "  ('yolks', 'NN'),\n",
       "  ('of', 'IN'),\n",
       "  ('four', 'CD'),\n",
       "  ('fresh', 'JJ'),\n",
       "  ('eggs', 'NNS'),\n",
       "  (',', ','),\n",
       "  ('and', 'CC'),\n",
       "  ('mingle', 'VB'),\n",
       "  ('the', 'AT'),\n",
       "  ('whole', 'JJ'),\n",
       "  ('carefully', 'RB'),\n",
       "  ('with', 'IN'),\n",
       "  ('two', 'CD'),\n",
       "  ('quarts', 'NN'),\n",
       "  ('of', 'IN'),\n",
       "  ('strong', 'JJ'),\n",
       "  ('veal', 'NN'),\n",
       "  ('or', 'CC'),\n",
       "  ('beef', 'NN'),\n",
       "  ('stock', 'NN'),\n",
       "  (',', ','),\n",
       "  ('which', 'WDT'),\n",
       "  ('should', 'MD'),\n",
       "  ('always', 'RB'),\n",
       "  ('be', 'BE'),\n",
       "  ('kept', 'VBN'),\n",
       "  ('ready', 'JJ'),\n",
       "  ('boiling', 'VBG'),\n",
       "  ('.', '.')],\n",
       " [('Pour', 'NN'),\n",
       "  ('it', 'PPS'),\n",
       "  ('over', 'IN'),\n",
       "  ('the', 'AT'),\n",
       "  ('meat', 'NN'),\n",
       "  (',', ','),\n",
       "  ('and', 'CC'),\n",
       "  ('serve', 'VB'),\n",
       "  ('.', '.')],\n",
       " [('Bake', 'NP'),\n",
       "  ('it', 'PPS'),\n",
       "  ('slowly', 'RB'),\n",
       "  ('for', 'IN'),\n",
       "  ('six', 'CD'),\n",
       "  ('hours', 'NNS'),\n",
       "  ('.', '.')],\n",
       " [('Drain', 'VB'),\n",
       "  ('it', 'PPO'),\n",
       "  ('from', 'IN'),\n",
       "  ('fat', 'NN'),\n",
       "  (',', ','),\n",
       "  ('unbind', 'NN'),\n",
       "  ('it', 'PPS'),\n",
       "  (',', ','),\n",
       "  ('and', 'CC'),\n",
       "  ('serve', 'VB'),\n",
       "  ('it', 'PPO'),\n",
       "  ('with', 'IN'),\n",
       "  ('a', 'AT'),\n",
       "  ('good', 'JJ'),\n",
       "  ('brown', 'JJ'),\n",
       "  ('gravy', 'NN'),\n",
       "  (',', ','),\n",
       "  ('or', 'CC'),\n",
       "  ('any', 'DTI'),\n",
       "  ('sauce', 'NN'),\n",
       "  ('preferred', 'VBN'),\n",
       "  (',', ','),\n",
       "  ('or', 'CC'),\n",
       "  ('with', 'IN'),\n",
       "  ('melted', 'VBN'),\n",
       "  ('butter', 'NN'),\n",
       "  ('in', 'IN'),\n",
       "  ('a', 'AT'),\n",
       "  ('tureen', 'NN'),\n",
       "  (',', ','),\n",
       "  ('a', 'AT'),\n",
       "  ('cut', 'VBN'),\n",
       "  ('lemon', 'NN'),\n",
       "  ('and', 'CC'),\n",
       "  ('cayenne', 'NN'),\n",
       "  ('.', '.')],\n",
       " [('Mix', 'NN'),\n",
       "  ('all', 'ABN'),\n",
       "  ('these', 'DTS'),\n",
       "  ('ingredients', 'NNS'),\n",
       "  ('well', 'RB'),\n",
       "  (',', ','),\n",
       "  ('and', 'CC'),\n",
       "  ('rub', 'VB'),\n",
       "  ('them', 'PPO'),\n",
       "  ('well', 'RB'),\n",
       "  ('into', 'IN'),\n",
       "  ('the', 'AT'),\n",
       "  ('beef', 'NN'),\n",
       "  (',', ','),\n",
       "  ('particularly', 'RB'),\n",
       "  ('into', 'IN'),\n",
       "  ('the', 'AT'),\n",
       "  ('holes', 'NNS'),\n",
       "  (',', ','),\n",
       "  ('adding', 'VBG'),\n",
       "  ('occasionally', 'RB'),\n",
       "  ('a', 'AT'),\n",
       "  ('little', 'JJ'),\n",
       "  ('salt', 'NN'),\n",
       "  ('.', '.')]]"
      ]
     },
     "execution_count": 8,
     "metadata": {},
     "output_type": "execute_result"
    }
   ],
   "source": [
    "imperatives = get_cookbook_imperatives(cookbook_sents, brown_tagger)\n",
    "imperatives[0:5]"
   ]
  },
  {
   "cell_type": "markdown",
   "metadata": {},
   "source": [
    "Notice that most of the initial words are incorrectly tagged as nouns rather than verbs.  How can we fix this?  One way is to label a few rather generic sentences with the structure we are interested in, add them to the start of the training data, and then retrain the tagger."
   ]
  },
  {
   "cell_type": "code",
   "execution_count": 9,
   "metadata": {
    "collapsed": false
   },
   "outputs": [],
   "source": [
    "def train_tagger_on_brown_augmented_with_cooking_sents():\n",
    "\n",
    "    cooking_action_sents = [[('Strain', 'VB'), ('it', 'PPS'), ('well', 'RB'), ('.', '.')],\n",
    "                        [('Mix', 'VB'), ('them', 'PPS'), ('well', 'RB'), ('.', '.')],\n",
    "                        [('Season', 'VB'), ('them', 'PPS'), ('with', 'IN'), ('pepper', 'NN'), ('.', '.')], \n",
    "                        [('Wash', 'VB'), ('it', 'PPS'), ('well', 'RB'), ('.', '.')],\n",
    "                        [('Chop', 'VB'), ('the', 'AT'), ('greens', 'NNS'), ('.', '.')],\n",
    "                        [('Slice', 'VB'), ('it', 'PPS'), ('well', 'RB'), ('.', '.')],\n",
    "                        [('Bake', 'VB'), ('the', 'AT'), ('cake', 'NN'), ('.', '.')],\n",
    "                        [('Pour', 'VB'), ('into', 'IN'), ('a', 'AT'), ('mold', 'NN'), ('.', '.')],\n",
    "                        [('Stir', 'VB'), ('the', 'AT'), ('mixture', 'NN'), ('.', '.')],\n",
    "                        [('Moisten', 'VB'), ('the', 'AT'), ('grains', 'NNS'), ('.', '.')],\n",
    "                        [('Cook', 'VB'), ('the', 'AT'), ('duck', 'NN'), ('.', '.')],\n",
    "                        [('Drain', 'VB'), ('for', 'IN'), ('one', 'CD'), ('day', 'NN'), ('.', '.')]]\n",
    "\n",
    "\n",
    "    brown_tagged_sents = brown.tagged_sents(categories=['adventure', 'belles_lettres', 'editorial', 'fiction', 'government', 'hobbies',\n",
    "    'humor', 'learned', 'lore', 'mystery', 'religion', 'reviews', 'romance', 'science_fiction'])\n",
    "    \n",
    "    #append hand-tagged cooking sentences to the front of the training data\n",
    "    all_tagged_sents = cooking_action_sents + brown_tagged_sents\n",
    "    return train_tagger(all_tagged_sents)\n",
    "    "
   ]
  },
  {
   "cell_type": "markdown",
   "metadata": {},
   "source": [
    "Let's retrain the tagger."
   ]
  },
  {
   "cell_type": "code",
   "execution_count": 10,
   "metadata": {
    "collapsed": false
   },
   "outputs": [
    {
     "name": "stdout",
     "output_type": "stream",
     "text": [
      "0.911 pos accuracy on test set\n"
     ]
    }
   ],
   "source": [
    "brown_and_cooking_tagger = train_tagger_on_brown_augmented_with_cooking_sents()\n"
   ]
  },
  {
   "cell_type": "markdown",
   "metadata": {},
   "source": [
    "How well is this working on the cookbook imperatives now? Is more training data needed to change the behavior of the tagger?"
   ]
  },
  {
   "cell_type": "code",
   "execution_count": 11,
   "metadata": {
    "collapsed": false,
    "scrolled": false
   },
   "outputs": [],
   "source": [
    "better_imperatives = get_cookbook_imperatives(cookbook_sents, brown_and_cooking_tagger)\n",
    "# better_imperatives"
   ]
  },
  {
   "cell_type": "markdown",
   "metadata": {},
   "source": [
    "It worked quite well.  It would be worth experimenting to see if it would still work if I'd supplied fewer of the cooking verbs."
   ]
  },
  {
   "cell_type": "markdown",
   "metadata": {},
   "source": [
    "##Assignment:##\n",
    "\n",
    "Rewrite this notebook to do the following:\n",
    "- Tag your adopted text with an NLTK backoff tagger\n",
    "- Identify a common type of error that is amenable to fix by making a pattern of training data, similar to what we see with the recipe examples.  You'll want to focus on a particular pattern so that making a few tweaks will have a impact on the results of training.\n",
    "- Show the before and after effects on the output of the tagger.  Ideally you'll see the errors get fixed not just on the specific examples you fixed, but on similar examples with different words.  In the case of recipes, imperative verbs beyond those in the hardcoded list would be fixed because the tagger would recognize the pattern that verbs can occur at the start of the sentence."
   ]
  },
  {
   "cell_type": "code",
   "execution_count": 12,
   "metadata": {
    "collapsed": false
   },
   "outputs": [
    {
     "name": "stdout",
     "output_type": "stream",
     "text": [
      "0.911 pos accuracy on test set\n"
     ]
    },
    {
     "data": {
      "text/plain": [
       "[('But', 'CC'),\n",
       " ('when', 'WRB'),\n",
       " ('wc', 'NN'),\n",
       " ('sum', 'NN'),\n",
       " ('up', 'RP'),\n",
       " ('this', 'DT'),\n",
       " ('local', 'JJ'),\n",
       " ('interest', 'NN'),\n",
       " ('aad', 'NN'),\n",
       " ('its', 'PP$'),\n",
       " ('effect', 'NN'),\n",
       " ('we', 'PPSS'),\n",
       " ('find', 'VB'),\n",
       " ('that', 'CS'),\n",
       " ('even', 'RB'),\n",
       " ('in', 'IN'),\n",
       " ('New', 'JJ-TL'),\n",
       " ('York', 'NP-TL'),\n",
       " (',', ','),\n",
       " ('New', 'JJ-TL'),\n",
       " ('Jersey', 'NP-TL'),\n",
       " (',', ','),\n",
       " ('Pennsylvania', 'NP'),\n",
       " (',', ','),\n",
       " ('Delaware', 'NP'),\n",
       " (',', ','),\n",
       " ('wd', 'NN'),\n",
       " ('Maryland', 'NP'),\n",
       " ('public', 'JJ'),\n",
       " ('regard', 'NN'),\n",
       " ('tor', 'NN'),\n",
       " ('the', 'AT'),\n",
       " ('history', 'NN'),\n",
       " ('of', 'IN'),\n",
       " ('the', 'AT'),\n",
       " ('Middle', 'JJ-TL'),\n",
       " ('colonies', 'NNS'),\n",
       " ('does', 'DOZ'),\n",
       " ('not', '*'),\n",
       " ('bulk', 'NN'),\n",
       " ('so', 'CS'),\n",
       " ('large', 'JJ'),\n",
       " ('as', 'CS'),\n",
       " ('the', 'AT'),\n",
       " ('general', 'JJ'),\n",
       " (',', ','),\n",
       " ('and', 'CC'),\n",
       " ('we', 'PPSS'),\n",
       " ('may', 'MD'),\n",
       " ('t', 'NN'),\n",
       " ('&', 'CC'),\n",
       " ('gt', 'NN'),\n",
       " (';', '.'),\n",
       " ('jr', 'NN'),\n",
       " ('popular', 'JJ'),\n",
       " (',', ','),\n",
       " ('interest', 'NN'),\n",
       " ('in', 'IN'),\n",
       " ('the', 'AT'),\n",
       " ('hiftory', 'NN'),\n",
       " ('of', 'IN'),\n",
       " ('the', 'AT'),\n",
       " ('colonies', 'NNS'),\n",
       " ('of', 'IN'),\n",
       " ('the', 'AT'),\n",
       " ('East', 'JJ-TL'),\n",
       " ('and', 'CC'),\n",
       " ('of', 'IN'),\n",
       " ('the', 'AT'),\n",
       " ('South', 'NR-TL'),\n",
       " ('during', 'IN'),\n",
       " ('the', 'AT'),\n",
       " ('early', 'JJ'),\n",
       " ('period', 'NN'),\n",
       " ('of', 'IN'),\n",
       " ('their', 'PP$'),\n",
       " ('existence*', 'NN'),\n",
       " ('^^n', 'NN'),\n",
       " (',', ','),\n",
       " ('therefoce^', 'NN'),\n",
       " ('the', 'AT'),\n",
       " ('genenl', 'NN'),\n",
       " ('mder', 'NN'),\n",
       " ('consideii', 'NN'),\n",
       " ('this', 'DT'),\n",
       " ('period', 'NN'),\n",
       " (',', ','),\n",
       " ('oabncing', 'NN'),\n",
       " ('at', 'IN'),\n",
       " ('it', 'PPO'),\n",
       " ('does', 'DOZ'),\n",
       " ('the', 'AT'),\n",
       " ('initial', 'JJ'),\n",
       " ('years', 'NNS'),\n",
       " ('of', 'IN'),\n",
       " ('American', 'JJ'),\n",
       " ('coloniea-', 'NN'),\n",
       " ('tioa', 'NN'),\n",
       " (',', ','),\n",
       " ('his', 'PP$'),\n",
       " ('mind', 'NN'),\n",
       " ('fastens', 'VBZ'),\n",
       " ('more', 'QL'),\n",
       " ('often', 'RB'),\n",
       " ('upon', 'IN'),\n",
       " ('Pljrmouth', 'NN'),\n",
       " ('Rock', 'NN-TL'),\n",
       " ('and', 'CC'),\n",
       " ('JuMMown', 'NN'),\n",
       " ('than', 'CS'),\n",
       " ('upon', 'IN'),\n",
       " ('Manhattan', 'NP'),\n",
       " ('and', 'CC'),\n",
       " ('St.', 'NP'),\n",
       " ('Mafy', 'NN'),\n",
       " (\"'s\", 'NN'),\n",
       " (';', '.'),\n",
       " ('and', 'CC'),\n",
       " ('when', 'WRB'),\n",
       " ('he', 'PPS'),\n",
       " ('studies', 'NNS'),\n",
       " ('the', 'AT'),\n",
       " ('advanced', 'VBN'),\n",
       " ('or', 'CC'),\n",
       " ('later', 'RBR'),\n",
       " ('stage', 'NN'),\n",
       " ('of', 'IN'),\n",
       " ('the', 'AT'),\n",
       " ('period', 'NN'),\n",
       " ('of', 'IN'),\n",
       " ('colo-', 'NN'),\n",
       " ('ittzation', 'NN'),\n",
       " (',', ','),\n",
       " ('it', 'PPS'),\n",
       " ('is', 'BEZ'),\n",
       " ('not', '*'),\n",
       " ('to', 'TO'),\n",
       " ('New', 'JJ-TL'),\n",
       " ('Haven', 'NN-TL'),\n",
       " (',', ','),\n",
       " ('New', 'JJ-TL'),\n",
       " ('Yoric', 'NN'),\n",
       " (',', ','),\n",
       " ('Philadelphia', 'NP-TL'),\n",
       " (',', ','),\n",
       " ('&', 'CC'),\n",
       " ('gt', 'NN'),\n",
       " (';', '.'),\n",
       " ('nd', 'NN'),\n",
       " ('Baltimore', 'NP'),\n",
       " ('that', 'CS'),\n",
       " ('he', 'PPS'),\n",
       " ('tarns', 'NN'),\n",
       " (',', ','),\n",
       " ('but', 'CC'),\n",
       " ('to', 'TO'),\n",
       " ('Boston', 'NP'),\n",
       " ('and', 'CC'),\n",
       " ('Chariestoo', 'NN'),\n",
       " ('.', '.')]"
      ]
     },
     "execution_count": 12,
     "metadata": {},
     "output_type": "execute_result"
    }
   ],
   "source": [
    "mybook = \"the_history_of_north_america.txt\"\n",
    "mybook_sents = tokenize_text(create_corpus(mybook))\n",
    "trained_tagger = train_tagger_on_brown()\n",
    "tagged = trained_tagger.tag(mybook_sents[4])\n",
    "tagged\n",
    "\n"
   ]
  },
  {
   "cell_type": "code",
   "execution_count": null,
   "metadata": {
    "collapsed": true
   },
   "outputs": [],
   "source": []
  }
 ],
 "metadata": {
  "kernelspec": {
   "display_name": "Python 3",
   "language": "python",
   "name": "python3"
  },
  "language_info": {
   "codemirror_mode": {
    "name": "ipython",
    "version": 3
   },
   "file_extension": ".py",
   "mimetype": "text/x-python",
   "name": "python",
   "nbconvert_exporter": "python",
   "pygments_lexer": "ipython3",
   "version": "3.5.2"
  }
 },
 "nbformat": 4,
 "nbformat_minor": 0
}
